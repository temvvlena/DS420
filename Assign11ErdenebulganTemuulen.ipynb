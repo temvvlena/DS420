{
 "cells": [
  {
   "cell_type": "markdown",
   "metadata": {},
   "source": [
    "# Assign 11"
   ]
  },
  {
   "cell_type": "markdown",
   "metadata": {},
   "source": [
    "<b>Question 1:</b>\n",
    "\n",
    "Please look into following example. \n",
    "https://towardsdatascience.com/machine-learning-for-beginners-an-introduction-to-neural-networks-d49f22d238f9\n",
    "\n",
    "In jupyter notebook write a reflection on your understanding about <b>Neural networks</b> like <b>how they work,\n",
    "training of neural works, hyperparameters of neural networks, back propagation etc.</b> \n",
    "\n",
    "You need to replicate the given example with your comments and understanding too.\n",
    "\n",
    "Additional resource:\n",
    "\n",
    "https://www.codementor.io/@james_aka_yale/a-gentle-introduction-to-neural-networks-for-machine-learning-hkijvz7lp\n",
    "\n",
    "https://www.innoarchitech.com/blog/artificial-intelligence-deep-learning-neural-networks-explained\n"
   ]
  },
  {
   "cell_type": "markdown",
   "metadata": {},
   "source": [
    "<hr>\n",
    "It's incredible to think about the potential of neural networks. After reading some articles, I believe this is the future. A neural network works with big data. It's like a brain because it has its tiny neurons. Each neuron takes inputs and weights and then returns an output using perceptrons that have bias and activation function. \n",
    "\n",
    "The formula of finding the output of a single neuron is y=f(x1​∗w1​+x2​∗w2​+b). y is output and x1 and x2 are the inputs and w1 and w2 are the weights, b is a bias. \n",
    "\n",
    "Now, these small neurons connect to each other and create whole new neural networks. When multiple neurons are connected and passing information to one another, they can reduce the mean squared error. That's the main idea here. To reduce the mean squared error, we can use multiple different hidden layers. Therefore, However, more hidden layers mean more powerful computer power. \n",
    "\n",
    "Speaking of computer power, we have to fit the right inputs and weights otherwise there will be an issue called: overfitting. That's why we have to choose our hyperparameters of neural networks carefully. \n",
    "\n",
    "How does this thing work? After reading the articles and watching some videos on YouTube, neural networks use backpropagation and front propagation. Basically, both parties pass information to one another to predict what we want. For example, front propagation goes first and calculates the activation function in percentage. However, it needs to work with other neurons, so it considers the result of other neurons to predict. "
   ]
  },
  {
   "cell_type": "markdown",
   "metadata": {},
   "source": [
    "<hr>"
   ]
  },
  {
   "cell_type": "markdown",
   "metadata": {},
   "source": [
    "After reading about neural networks, I found the image detection engine helpful because there are simple to understand the topic. For example, there are two pictures dog picture and a cat picture. However, since the computer only understands 1 and 0s, each neuron should calculate a small chunk of the image and then runs through hidden layers. Our goal is to reduce the mean squared errors; therefore, in the end, it should successfully detect cat pictures from a dog. Hidden layers will pass information to each other using backpropagation. Eventually, after running hundreds or thousands of times, we will be able to predict.  "
   ]
  },
  {
   "cell_type": "markdown",
   "metadata": {},
   "source": [
    "<b> Question 2: </b>\n",
    "\n",
    "Look into IRIS example in your lecture code, and go through introduction to deep learning lecture slides. \n",
    "\n",
    "<b>Replicate IRIS example </b> and <b> explain every step</b> to best of your understanding in terms of tensorflsow i.e. <b> \n",
    "    \n",
    "Variables, Wrights, Bias, Activation function, Learning rate etc </b>. Submit a Jupyter notebook with all details."
   ]
  },
  {
   "cell_type": "code",
   "execution_count": 6,
   "metadata": {},
   "outputs": [
    {
     "data": {
      "text/plain": [
       "'\\nDownload a dataset that is related to fuel consumption & Carbon dioxide emission of cars\\n'"
      ]
     },
     "execution_count": 6,
     "metadata": {},
     "output_type": "execute_result"
    }
   ],
   "source": [
    "\"\"\"\n",
    "Download a dataset that is related to fuel consumption & Carbon dioxide emission of cars\n",
    "\"\"\""
   ]
  },
  {
   "cell_type": "code",
   "execution_count": 27,
   "metadata": {},
   "outputs": [
    {
     "data": {
      "text/html": [
       "<div>\n",
       "<style scoped>\n",
       "    .dataframe tbody tr th:only-of-type {\n",
       "        vertical-align: middle;\n",
       "    }\n",
       "\n",
       "    .dataframe tbody tr th {\n",
       "        vertical-align: top;\n",
       "    }\n",
       "\n",
       "    .dataframe thead th {\n",
       "        text-align: right;\n",
       "    }\n",
       "</style>\n",
       "<table border=\"1\" class=\"dataframe\">\n",
       "  <thead>\n",
       "    <tr style=\"text-align: right;\">\n",
       "      <th></th>\n",
       "      <th>MODELYEAR</th>\n",
       "      <th>MAKE</th>\n",
       "      <th>MODEL</th>\n",
       "      <th>VEHICLECLASS</th>\n",
       "      <th>ENGINESIZE</th>\n",
       "      <th>CYLINDERS</th>\n",
       "      <th>TRANSMISSION</th>\n",
       "      <th>FUELTYPE</th>\n",
       "      <th>FUELCONSUMPTION_CITY</th>\n",
       "      <th>FUELCONSUMPTION_HWY</th>\n",
       "      <th>FUELCONSUMPTION_COMB</th>\n",
       "      <th>FUELCONSUMPTION_COMB_MPG</th>\n",
       "      <th>CO2EMISSIONS</th>\n",
       "    </tr>\n",
       "  </thead>\n",
       "  <tbody>\n",
       "    <tr>\n",
       "      <th>0</th>\n",
       "      <td>2014</td>\n",
       "      <td>ACURA</td>\n",
       "      <td>ILX</td>\n",
       "      <td>COMPACT</td>\n",
       "      <td>2.0</td>\n",
       "      <td>4</td>\n",
       "      <td>AS5</td>\n",
       "      <td>Z</td>\n",
       "      <td>9.9</td>\n",
       "      <td>6.7</td>\n",
       "      <td>8.5</td>\n",
       "      <td>33</td>\n",
       "      <td>196</td>\n",
       "    </tr>\n",
       "    <tr>\n",
       "      <th>1</th>\n",
       "      <td>2014</td>\n",
       "      <td>ACURA</td>\n",
       "      <td>ILX</td>\n",
       "      <td>COMPACT</td>\n",
       "      <td>2.4</td>\n",
       "      <td>4</td>\n",
       "      <td>M6</td>\n",
       "      <td>Z</td>\n",
       "      <td>11.2</td>\n",
       "      <td>7.7</td>\n",
       "      <td>9.6</td>\n",
       "      <td>29</td>\n",
       "      <td>221</td>\n",
       "    </tr>\n",
       "    <tr>\n",
       "      <th>2</th>\n",
       "      <td>2014</td>\n",
       "      <td>ACURA</td>\n",
       "      <td>ILX HYBRID</td>\n",
       "      <td>COMPACT</td>\n",
       "      <td>1.5</td>\n",
       "      <td>4</td>\n",
       "      <td>AV7</td>\n",
       "      <td>Z</td>\n",
       "      <td>6.0</td>\n",
       "      <td>5.8</td>\n",
       "      <td>5.9</td>\n",
       "      <td>48</td>\n",
       "      <td>136</td>\n",
       "    </tr>\n",
       "    <tr>\n",
       "      <th>3</th>\n",
       "      <td>2014</td>\n",
       "      <td>ACURA</td>\n",
       "      <td>MDX 4WD</td>\n",
       "      <td>SUV - SMALL</td>\n",
       "      <td>3.5</td>\n",
       "      <td>6</td>\n",
       "      <td>AS6</td>\n",
       "      <td>Z</td>\n",
       "      <td>12.7</td>\n",
       "      <td>9.1</td>\n",
       "      <td>11.1</td>\n",
       "      <td>25</td>\n",
       "      <td>255</td>\n",
       "    </tr>\n",
       "    <tr>\n",
       "      <th>4</th>\n",
       "      <td>2014</td>\n",
       "      <td>ACURA</td>\n",
       "      <td>RDX AWD</td>\n",
       "      <td>SUV - SMALL</td>\n",
       "      <td>3.5</td>\n",
       "      <td>6</td>\n",
       "      <td>AS6</td>\n",
       "      <td>Z</td>\n",
       "      <td>12.1</td>\n",
       "      <td>8.7</td>\n",
       "      <td>10.6</td>\n",
       "      <td>27</td>\n",
       "      <td>244</td>\n",
       "    </tr>\n",
       "  </tbody>\n",
       "</table>\n",
       "</div>"
      ],
      "text/plain": [
       "   MODELYEAR   MAKE       MODEL VEHICLECLASS  ENGINESIZE  CYLINDERS  \\\n",
       "0       2014  ACURA         ILX      COMPACT         2.0          4   \n",
       "1       2014  ACURA         ILX      COMPACT         2.4          4   \n",
       "2       2014  ACURA  ILX HYBRID      COMPACT         1.5          4   \n",
       "3       2014  ACURA     MDX 4WD  SUV - SMALL         3.5          6   \n",
       "4       2014  ACURA     RDX AWD  SUV - SMALL         3.5          6   \n",
       "\n",
       "  TRANSMISSION FUELTYPE  FUELCONSUMPTION_CITY  FUELCONSUMPTION_HWY  \\\n",
       "0          AS5        Z                   9.9                  6.7   \n",
       "1           M6        Z                  11.2                  7.7   \n",
       "2          AV7        Z                   6.0                  5.8   \n",
       "3          AS6        Z                  12.7                  9.1   \n",
       "4          AS6        Z                  12.1                  8.7   \n",
       "\n",
       "   FUELCONSUMPTION_COMB  FUELCONSUMPTION_COMB_MPG  CO2EMISSIONS  \n",
       "0                   8.5                        33           196  \n",
       "1                   9.6                        29           221  \n",
       "2                   5.9                        48           136  \n",
       "3                  11.1                        25           255  \n",
       "4                  10.6                        27           244  "
      ]
     },
     "execution_count": 27,
     "metadata": {},
     "output_type": "execute_result"
    }
   ],
   "source": [
    "import matplotlib.pyplot as plt\n",
    "import pandas as pd\n",
    "import pylab as pl\n",
    "import numpy as np\n",
    "import tensorflow.compat.v1 as tf\n",
    "import matplotlib.patches as mpatches\n",
    "import matplotlib.pyplot as plt\n",
    "%matplotlib inline\n",
    "plt.rcParams['figure.figsize'] = (10, 6)\n",
    "df = pd.read_csv(\"https://s3-api.us-geo.objectstorage.softlayer.net/cf-courses-data/CognitiveClass/ML0101ENv3/labs/FuelConsumptionCo2.csv\")\n",
    "# take a look at the dataset\n",
    "tf.compat.v1.disable_eager_execution()\n",
    "df.head()"
   ]
  },
  {
   "cell_type": "markdown",
   "metadata": {},
   "source": [
    "So the followings are the <b>columns</b>\n",
    "\n",
    "MODELYEAR e.g. 2014\n",
    "\n",
    "MAKE e.g. Acura\n",
    "\n",
    "MODEL e.g. ILX\n",
    "\n",
    "VEHICLE CLASS e.g. SUV\n",
    "\n",
    "ENGINE SIZE e.g. 4.7\n",
    "\n",
    "CYLINDERS e.g 6\n",
    "\n",
    "TRANSMISSION e.g. A6\n",
    "\n",
    "FUEL CONSUMPTION in CITY(L/100 km) e.g. 9.9\n",
    "\n",
    "FUEL CONSUMPTION in HWY (L/100 km) e.g. 8.9\n",
    "\n",
    "FUEL CONSUMPTION COMB (L/100 km) e.g. 9.2\n",
    "\n",
    "CO2 EMISSIONS (g/km) e.g. 182 --> low --> 0\n"
   ]
  },
  {
   "cell_type": "code",
   "execution_count": 28,
   "metadata": {},
   "outputs": [],
   "source": [
    "'''\n",
    "Here we are predicting Co2Emission of cars based on their engine size. \n",
    "So, defining X and Y value for the linear regression, \n",
    "that is, train_x and train_y:\n",
    "'''\n",
    "train_x = np.asanyarray(df[['ENGINESIZE']])\n",
    "train_y = np.asanyarray(df[['CO2EMISSIONS']])"
   ]
  },
  {
   "cell_type": "code",
   "execution_count": 29,
   "metadata": {},
   "outputs": [
    {
     "name": "stdout",
     "output_type": "stream",
     "text": [
      "<tf.Variable 'Variable_1:0' shape=() dtype=float32> <tf.Variable 'Variable:0' shape=() dtype=float32>\n"
     ]
    }
   ],
   "source": [
    "\"\"\"\n",
    "Feeding with some random variables and then define the linear regression formula\n",
    "b is bais\n",
    "a is a weight\n",
    "\"\"\"\n",
    "a = tf.Variable(20.0)\n",
    "b = tf.Variable(30.2)\n",
    "y = a * train_x + b\n",
    "print(b, a)"
   ]
  },
  {
   "cell_type": "code",
   "execution_count": 30,
   "metadata": {},
   "outputs": [
    {
     "name": "stdout",
     "output_type": "stream",
     "text": [
      "Tensor(\"Mean:0\", shape=(), dtype=float32)\n"
     ]
    }
   ],
   "source": [
    "'''\n",
    "Here we are calculating the mean squared error that I mentioned in the first question.\n",
    "To find the mean squared error, we use tf.reduce_mean(). This function finds the mean of a multidimensional tensor, and \n",
    "the result can have a different dimension.\n",
    "'''\n",
    "loss = tf.compat.v1.reduce_mean(tf.square(y - train_y))\n",
    "print(loss)"
   ]
  },
  {
   "cell_type": "code",
   "execution_count": 31,
   "metadata": {},
   "outputs": [
    {
     "name": "stdout",
     "output_type": "stream",
     "text": [
      "<tensorflow.python.training.gradient_descent.GradientDescentOptimizer object at 0x000001E76CF8C3D0>\n"
     ]
    }
   ],
   "source": [
    "# Here here is the tensorflow optimization method. We picked 0.05 but it can any value. \n",
    "# The optimizers are used for improving speed and performance for training a specific model.\n",
    "optimizer = tf.compat.v1.train.GradientDescentOptimizer(0.05)\n",
    "print(optimizer)"
   ]
  },
  {
   "cell_type": "code",
   "execution_count": 32,
   "metadata": {},
   "outputs": [],
   "source": [
    "# I think this makes the tensorflow optimization method more efficient\n",
    "train = optimizer.minimize(loss)"
   ]
  },
  {
   "cell_type": "code",
   "execution_count": 35,
   "metadata": {},
   "outputs": [],
   "source": [
    "#initializing the variables before executing a graph:\n",
    "init = tf.compat.v1.global_variables_initializer()\n",
    "sess = tf.compat.v1.Session()\n",
    "sess.run(init)"
   ]
  },
  {
   "cell_type": "code",
   "execution_count": 36,
   "metadata": {},
   "outputs": [
    {
     "name": "stdout",
     "output_type": "stream",
     "text": [
      "0 26992.592 20.0 30.2\n",
      "5 1891.721 59.76378 46.635117\n",
      "10 1762.7241 57.911816 51.973316\n",
      "15 1653.5896 56.615788 57.051537\n",
      "20 1559.0438 55.404785 61.776962\n",
      "25 1477.1368 54.277676 66.17523\n",
      "30 1406.1787 53.2286 70.269\n",
      "35 1344.7058 52.252155 74.07933\n",
      "40 1291.4507 51.343315 77.625854\n",
      "45 1245.3142 50.4974 80.92684\n",
      "50 1205.3451 49.71005 83.99929\n",
      "55 1170.7189 48.977207 86.85902\n",
      "60 1140.7213 48.29511 89.520744\n",
      "65 1114.734 47.660236 91.998184\n",
      "70 1092.2202 47.069317 94.3041\n",
      "75 1072.7162 46.51931 96.45037\n",
      "80 1055.8192 46.00738 98.44805\n",
      "85 1041.181 45.530895 100.30742\n",
      "90 1028.4998 45.0874 102.038055\n",
      "95 1017.5135 44.67461 103.64887\n"
     ]
    }
   ],
   "source": [
    "#Now we are ready to start the optimization and run the graph:\n",
    "# Get every x and y variables and then apply session run to see them in the graph\n",
    "loss_values = []\n",
    "train_data = []\n",
    "for step in range(100):\n",
    "    _, loss_val, a_val, b_val = sess.run([train, loss, a, b])\n",
    "    loss_values.append(loss_val)\n",
    "    if step % 5 == 0:\n",
    "        print(step, loss_val, a_val, b_val)\n",
    "        train_data.append([a_val, b_val])"
   ]
  },
  {
   "cell_type": "code",
   "execution_count": 37,
   "metadata": {},
   "outputs": [
    {
     "data": {
      "text/plain": [
       "[<matplotlib.lines.Line2D at 0x1e76dff3c10>]"
      ]
     },
     "execution_count": 37,
     "metadata": {},
     "output_type": "execute_result"
    },
    {
     "data": {
      "image/png": "[encoded data removed]",
      "text/plain": [
       "<Figure size 720x432 with 1 Axes>"
      ]
     },
     "metadata": {
      "needs_background": "light"
     },
     "output_type": "display_data"
    }
   ],
   "source": [
    "#Lets plot the loss values to see how it has changed during the training:\n",
    "# Every graph shows me one single tensorflow computation. We want to \n",
    "plt.plot(loss_values, 'ro')"
   ]
  },
  {
   "cell_type": "code",
   "execution_count": 38,
   "metadata": {},
   "outputs": [
    {
     "data": {
      "image/png": "[encoded data removed]",
      "text/plain": [
       "<Figure size 720x432 with 1 Axes>"
      ]
     },
     "metadata": {
      "needs_background": "light"
     },
     "output_type": "display_data"
    }
   ],
   "source": [
    "#Lets visualize how the coefficient and intercept of line has changed to fit the data:\n",
    "cr, cg, cb = (1.0, 1.0, 0.0)\n",
    "for f in train_data:\n",
    "    cb += 1.0 / len(train_data)\n",
    "    cg -= 1.0 / len(train_data)\n",
    "    if cb > 1.0: cb = 1.0\n",
    "    if cg < 0.0: cg = 0.0\n",
    "    [a, b] = f\n",
    "    f_y = np.vectorize(lambda x: a*x + b)(train_x)\n",
    "    line = plt.plot(train_x, f_y)\n",
    "    plt.setp(line, color=(cr,cg,cb))\n",
    "\n",
    "plt.plot(train_x, train_y, 'ro')\n",
    "green_line = mpatches.Patch(color='red', label='Data Points')\n",
    "plt.legend(handles=[green_line])\n",
    "plt.show()"
   ]
  },
  {
   "cell_type": "code",
   "execution_count": 39,
   "metadata": {},
   "outputs": [],
   "source": [
    "'''\n",
    "While Linear Regression is suited for estimating continuous values (e.g. estimating house price), \n",
    "it is not the best tool for predicting the class in which an observed data point\n",
    "belongs. In order to provide estimate for classification, we need some sort of guidance on what\n",
    "would be the most probable class for that data point. For this, we use Logistic \n",
    "Regression.\n",
    "'''\n",
    "# import tensorflow as tf\n",
    "import pandas as pd\n",
    "import numpy as np\n",
    "import time\n",
    "from sklearn.datasets import load_iris\n",
    "from sklearn.model_selection import train_test_split\n",
    "import matplotlib.pyplot as plt"
   ]
  },
  {
   "cell_type": "code",
   "execution_count": 41,
   "metadata": {},
   "outputs": [],
   "source": [
    "'''\n",
    "Iris Dataset:\n",
    "This dataset was introduced by British Statistician and Biologist Ronald Fisher, \n",
    "it consists of 50 samples from each of three species of Iris (Iris setosa, \n",
    "Iris virginica and Iris versicolor). In total it has 150 records under \n",
    "five attributes - petal length, petal width, sepal length, sepal width and species. \n",
    "Dataset source\n",
    "\n",
    "\"Attributes Independent Variable\"\n",
    "petal length\n",
    "petal width\n",
    "sepal length\n",
    "sepal width\n",
    "\n",
    "\"Dependent Variable\"\n",
    "Species\n",
    "Iris setosa\n",
    "Iris virginica\n",
    "Iris versicolor\n",
    "'''\n",
    "iris = load_iris()\n",
    "iris_X, iris_y = iris.data[:-1,:], iris.target[:-1]\n",
    "iris_y= pd.get_dummies(iris_y).values\n",
    "trainX, testX, trainY, testY = train_test_split(iris_X, iris_y, test_size=0.33, random_state=42)\n",
    "'''\n",
    "\"Placeholders\"\n",
    "Now we define x and y. These placeholders will hold our iris data (both the features and label matrices), \n",
    "and help pass them along to different parts of the algorithm. \n",
    "You can consider placeholders as empty shells into which we insert our data. We also need to give them shapes \n",
    "which correspond to the shape of our data. Later, we will \n",
    "insert data into these placeholders by “feeding” the placeholders the data via a “feed_dict” (Feed Dictionary).\n",
    "1-This feature of TensorFlow allows us to create an algorithm which accepts data and knows something about the \n",
    "shape of the data without knowing the amount of data going in.\n",
    "2-When we insert “batches” of data in training, we can easily adjust how many examples we train on in a single \n",
    "step without changing the entire algorithm.\n",
    "We are feeding the x and y to show them in tensorflow here\n",
    "'''\n",
    "# numFeatures is the number of features in our input data.\n",
    "# In the iris dataset, this number is '4'.\n",
    "numFeatures = trainX.shape[1]\n",
    "\n",
    "# numLabels is the number of classes our data points can be in.\n",
    "# In the iris dataset, this number is '3'.\n",
    "numLabels = trainY.shape[1]\n",
    "\n",
    "# Placeholders\n",
    "# 'None' means TensorFlow shouldn't expect a fixed number in that dimension\n",
    "X = tf.compat.v1.placeholder(tf.float32, [None, numFeatures]) # Iris has 4 features, so X is a tensor to hold our data.\n",
    "yGold = tf.compat.v1.placeholder(tf.float32, [None, numLabels]) # This will be our correct answers matrix for 3 classes."
   ]
  },
  {
   "cell_type": "code",
   "execution_count": 43,
   "metadata": {},
   "outputs": [],
   "source": [
    "'''\n",
    "\"Variables\"\n",
    "Much like Linear Regression, we need a shared variable weight matrix for Logistic Regression. \n",
    "We initialize both W and b as tensors full of zeros. Since we are going to learn \n",
    "W and b, their initial value does not matter too much. These variables are the objects which \n",
    "define the structure of our regression model, and we can save them after they have \n",
    "been trained so we can reuse them later.\n",
    "We define two TensorFlow variables as our parameters. These variables will hold the weights \n",
    "and biases of our logistic regression and they will be continually updated during \n",
    "training.\n",
    "Notice that W has a shape of [4, 3] because we want to multiply the 4-dimensional input vectors \n",
    "by it to produce 3-dimensional vectors of evidence for the difference classes. \n",
    "b has a shape of [3] so we can add it to the output. Moreover, unlike our placeholders above \n",
    "which are essentially empty shells waiting to be fed data, TensorFlow variables need \n",
    "to be initialized with values, e.g. with zeros.\n",
    "'''\n",
    "W = tf.compat.v1.Variable(tf.zeros([4, 3]))  # 4-dimensional input and  3 classes\n",
    "b = tf.compat.v1.Variable(tf.zeros([3])) # 3-dimensional output [0,0,1],[0,1,0],[1,0,0]\n",
    "\n",
    "#Randomly sample from a normal distribution with standard deviation .01\n",
    "\n",
    "weights = tf.compat.v1.Variable(tf.compat.v1.random_normal([numFeatures,numLabels],\n",
    "                                       mean=0,\n",
    "                                       stddev=0.01,\n",
    "                                       name=\"weights\"))\n",
    "\n",
    "bias = tf.compat.v1.Variable(tf.compat.v1.random_normal([1,numLabels],\n",
    "                                    mean=0,\n",
    "                                    stddev=0.01,\n",
    "                                    name=\"bias\"))"
   ]
  },
  {
   "cell_type": "code",
   "execution_count": 44,
   "metadata": {},
   "outputs": [],
   "source": [
    "'''\n",
    "Logistic Regression model\n",
    "We now define our operations in order to properly run the Logistic Regression. \n",
    "Logistic regression is typically thought of as a single equation:\n",
    "\n",
    "𝑦̂ =𝑠𝑖𝑔𝑚𝑜𝑖𝑑(𝑊𝑋+𝑏)\n",
    " \n",
    "However, for the sake of clarity, we can have it broken into its three main components:\n",
    "\n",
    "1-a weight times features matrix multiplication operation,\n",
    "2-a summation of the weighted features and a bias term,\n",
    "3-and finally the application of a sigmoid function.\n",
    "As such, you will find these components defined as three separate operations below.\n",
    "'''\n",
    "# Three-component breakdown of the Logistic Regression equation.\n",
    "# Note that these feed into each other.\n",
    "apply_weights_OP = tf.matmul(X, weights, name=\"apply_weights\")\n",
    "add_bias_OP = tf.add(apply_weights_OP, bias, name=\"add_bias\") \n",
    "activation_OP = tf.nn.sigmoid(add_bias_OP, name=\"activation\")"
   ]
  },
  {
   "cell_type": "code",
   "execution_count": 45,
   "metadata": {},
   "outputs": [],
   "source": [
    "'''\n",
    "\"Training\"\n",
    "The learning algorithm is how we search for the best weight vector ( 𝐰 ). \n",
    "This search is an optimization problem looking for the hypothesis that optimizes an error/cost measure.\n",
    "\n",
    "What tell us our model is bad?\n",
    "The Cost or Loss of the model, so what we want is to minimize that.\n",
    "\n",
    "What is the cost function in our model?\n",
    "The cost function we are going to utilize is the Squared Mean Error loss function.\n",
    "\n",
    "How to minimize the cost function?\n",
    "We can't use least-squares linear regression here, so we will use gradient descent instead. \n",
    "Specifically, we will use batch gradient descent which calculates the gradient from all data points in the data set.\n",
    "\n",
    "\n",
    "'''\n",
    "# Number of Epochs in our training\n",
    "numEpochs = 700\n",
    "\n",
    "# Defining our learning rate iterations (decay)\n",
    "learningRate = tf.compat.v1.train.exponential_decay(learning_rate=0.0008,\n",
    "                                          global_step= 1,\n",
    "                                          decay_steps=trainX.shape[0],\n",
    "                                          decay_rate= 0.95,\n",
    "                                          staircase=True)\n",
    "#Defining our cost function - Squared Mean Error\n",
    "cost_OP = tf.compat.v1.nn.l2_loss(activation_OP-yGold, name=\"squared_error_cost\")\n",
    "#Defining our Gradient Descent\n",
    "training_OP = tf.compat.v1.train.GradientDescentOptimizer(learningRate).minimize(cost_OP)\n",
    "\n",
    "# Create a tensorflow session\n",
    "sess = tf.compat.v1.Session()\n",
    "\n",
    "# Initialize our weights and biases variables.\n",
    "init_OP = tf.compat.v1.global_variables_initializer()\n",
    "\n",
    "# Initialize all tensorflow variables\n",
    "sess.run(init_OP)"
   ]
  },
  {
   "cell_type": "code",
   "execution_count": 46,
   "metadata": {},
   "outputs": [],
   "source": [
    "# argmax(activation_OP, 1) returns the label with the most probability\n",
    "# argmax(yGold, 1) is the correct label\n",
    "correct_predictions_OP = tf.equal(tf.argmax(activation_OP,1),tf.argmax(yGold,1))\n",
    "\n",
    "# If every false prediction is 0 and every true prediction is 1, the average returns us the accuracy\n",
    "accuracy_OP = tf.reduce_mean(tf.cast(correct_predictions_OP, \"float\"))\n",
    "\n",
    "# Summary op for regression output\n",
    "activation_summary_OP = tf.summary.histogram(\"output\", activation_OP)\n",
    "\n",
    "# Summary op for accuracy\n",
    "accuracy_summary_OP = tf.summary.scalar(\"accuracy\", accuracy_OP)\n",
    "\n",
    "# Summary op for cost\n",
    "cost_summary_OP = tf.summary.scalar(\"cost\", cost_OP)\n",
    "\n",
    "# Summary ops to check how variables (W, b) are updating after each iteration\n",
    "weightSummary = tf.summary.histogram(\"weights\", weights.eval(session=sess))\n",
    "biasSummary = tf.summary.histogram(\"biases\", bias.eval(session=sess))\n",
    "\n",
    "# Merge all summaries\n",
    "merged = tf.summary.merge([activation_summary_OP, accuracy_summary_OP, cost_summary_OP, weightSummary, biasSummary])\n",
    "\n",
    "# Summary writer\n",
    "writer = tf.summary.FileWriter(\"summary_logs\", sess.graph)"
   ]
  },
  {
   "cell_type": "code",
   "execution_count": 47,
   "metadata": {
    "scrolled": true
   },
   "outputs": [
    {
     "name": "stdout",
     "output_type": "stream",
     "text": [
      "step 0, training accuracy 0.333333, cost 34.0217, change in cost 34.0217\n",
      "step 10, training accuracy 0.616162, cost 29.9111, change in cost 4.11062\n",
      "step 20, training accuracy 0.646465, cost 27.9937, change in cost 1.91744\n",
      "step 30, training accuracy 0.646465, cost 26.3795, change in cost 1.61415\n",
      "step 40, training accuracy 0.646465, cost 25.04, change in cost 1.33952\n",
      "step 50, training accuracy 0.646465, cost 23.9336, change in cost 1.10639\n",
      "step 60, training accuracy 0.646465, cost 23.0174, change in cost 0.916166\n",
      "step 70, training accuracy 0.646465, cost 22.2536, change in cost 0.763828\n",
      "step 80, training accuracy 0.646465, cost 21.611, change in cost 0.642591\n",
      "step 90, training accuracy 0.646465, cost 21.065, change in cost 0.54599\n",
      "step 100, training accuracy 0.656566, cost 20.5964, change in cost 0.468632\n",
      "step 110, training accuracy 0.666667, cost 20.1902, change in cost 0.406225\n",
      "step 120, training accuracy 0.666667, cost 19.8347, change in cost 0.355463\n",
      "step 130, training accuracy 0.666667, cost 19.5209, change in cost 0.313801\n",
      "step 140, training accuracy 0.666667, cost 19.2416, change in cost 0.279316\n",
      "step 150, training accuracy 0.666667, cost 18.9911, change in cost 0.250519\n",
      "step 160, training accuracy 0.676768, cost 18.7648, change in cost 0.22628\n",
      "step 170, training accuracy 0.686869, cost 18.5591, change in cost 0.205713\n",
      "step 180, training accuracy 0.686869, cost 18.371, change in cost 0.188137\n",
      "step 190, training accuracy 0.707071, cost 18.1979, change in cost 0.17301\n",
      "step 200, training accuracy 0.717172, cost 18.038, change in cost 0.159903\n",
      "step 210, training accuracy 0.737374, cost 17.8896, change in cost 0.148474\n",
      "step 220, training accuracy 0.737374, cost 17.7511, change in cost 0.138456\n",
      "step 230, training accuracy 0.747475, cost 17.6215, change in cost 0.129616\n",
      "step 240, training accuracy 0.757576, cost 17.4997, change in cost 0.121788\n",
      "step 250, training accuracy 0.767677, cost 17.3849, change in cost 0.114809\n",
      "step 260, training accuracy 0.787879, cost 17.2763, change in cost 0.108566\n",
      "step 270, training accuracy 0.787879, cost 17.1734, change in cost 0.102951\n",
      "step 280, training accuracy 0.787879, cost 17.0755, change in cost 0.0978851\n",
      "step 290, training accuracy 0.787879, cost 16.9822, change in cost 0.0932941\n",
      "step 300, training accuracy 0.79798, cost 16.8931, change in cost 0.0891209\n",
      "step 310, training accuracy 0.79798, cost 16.8078, change in cost 0.0853024\n",
      "step 320, training accuracy 0.79798, cost 16.726, change in cost 0.0818119\n",
      "step 330, training accuracy 0.79798, cost 16.6474, change in cost 0.0785999\n",
      "step 340, training accuracy 0.808081, cost 16.5717, change in cost 0.0756416\n",
      "step 350, training accuracy 0.818182, cost 16.4988, change in cost 0.0729065\n",
      "step 360, training accuracy 0.828283, cost 16.4284, change in cost 0.0703716\n",
      "step 370, training accuracy 0.838384, cost 16.3604, change in cost 0.0680122\n",
      "step 380, training accuracy 0.838384, cost 16.2946, change in cost 0.0658188\n",
      "step 390, training accuracy 0.848485, cost 16.2309, change in cost 0.0637646\n",
      "step 400, training accuracy 0.848485, cost 16.169, change in cost 0.061842\n",
      "step 410, training accuracy 0.848485, cost 16.109, change in cost 0.0600414\n",
      "step 420, training accuracy 0.848485, cost 16.0506, change in cost 0.0583458\n",
      "step 430, training accuracy 0.848485, cost 15.9939, change in cost 0.0567503\n",
      "step 440, training accuracy 0.868687, cost 15.9386, change in cost 0.0552435\n",
      "step 450, training accuracy 0.868687, cost 15.8848, change in cost 0.0538177\n",
      "step 460, training accuracy 0.868687, cost 15.8323, change in cost 0.0524693\n",
      "step 470, training accuracy 0.878788, cost 15.7812, change in cost 0.0511875\n",
      "step 480, training accuracy 0.878788, cost 15.7312, change in cost 0.0499725\n",
      "step 490, training accuracy 0.878788, cost 15.6824, change in cost 0.0488148\n",
      "step 500, training accuracy 0.878788, cost 15.6347, change in cost 0.0477114\n",
      "step 510, training accuracy 0.878788, cost 15.588, change in cost 0.0466566\n",
      "step 520, training accuracy 0.878788, cost 15.5423, change in cost 0.0456533\n",
      "step 530, training accuracy 0.878788, cost 15.4977, change in cost 0.0446901\n",
      "step 540, training accuracy 0.89899, cost 15.4539, change in cost 0.0437689\n",
      "step 550, training accuracy 0.89899, cost 15.411, change in cost 0.0428848\n",
      "step 560, training accuracy 0.89899, cost 15.369, change in cost 0.042037\n",
      "step 570, training accuracy 0.89899, cost 15.3277, change in cost 0.0412207\n",
      "step 580, training accuracy 0.89899, cost 15.2873, change in cost 0.0404377\n",
      "step 590, training accuracy 0.909091, cost 15.2476, change in cost 0.0396824\n",
      "step 600, training accuracy 0.909091, cost 15.2087, change in cost 0.0389547\n",
      "step 610, training accuracy 0.909091, cost 15.1704, change in cost 0.0382538\n",
      "step 620, training accuracy 0.909091, cost 15.1328, change in cost 0.0375767\n",
      "step 630, training accuracy 0.909091, cost 15.0959, change in cost 0.0369234\n",
      "step 640, training accuracy 0.909091, cost 15.0596, change in cost 0.0362892\n",
      "step 650, training accuracy 0.909091, cost 15.0239, change in cost 0.0356779\n",
      "step 660, training accuracy 0.909091, cost 14.9889, change in cost 0.0350866\n",
      "step 670, training accuracy 0.909091, cost 14.9543, change in cost 0.0345125\n",
      "step 680, training accuracy 0.909091, cost 14.9204, change in cost 0.0339556\n",
      "step 690, training accuracy 0.909091, cost 14.887, change in cost 0.0334167\n",
      "final accuracy on test set: 0.9\n"
     ]
    }
   ],
   "source": [
    "#Now we can define and run the actual training loop, like this:\n",
    "cost = 0\n",
    "diff = 1\n",
    "epoch_values = []\n",
    "accuracy_values = []\n",
    "cost_values = []\n",
    "\n",
    "# Training epochs\n",
    "for i in range(numEpochs):\n",
    "    if i > 1 and diff < .0001:\n",
    "        print(\"change in cost %g; convergence.\"%diff)\n",
    "        break\n",
    "    else:\n",
    "        # Run training step\n",
    "        step = sess.run(training_OP, feed_dict={X: trainX, yGold: trainY})\n",
    "        # Report occasional stats\n",
    "        if i % 10 == 0:\n",
    "            # Add epoch to epoch_values\n",
    "            epoch_values.append(i)\n",
    "            # Generate accuracy stats on test data\n",
    "            train_accuracy, newCost = sess.run([accuracy_OP, cost_OP], feed_dict={X: trainX, yGold: trainY})\n",
    "            # Add accuracy to live graphing variable\n",
    "            accuracy_values.append(train_accuracy)\n",
    "            # Add cost to live graphing variable\n",
    "            cost_values.append(newCost)\n",
    "            # Re-assign values for variables\n",
    "            diff = abs(newCost - cost)\n",
    "            cost = newCost\n",
    "\n",
    "            #generate print statements\n",
    "            print(\"step %d, training accuracy %g, cost %g, change in cost %g\"%(i, train_accuracy, newCost, diff))\n",
    "\n",
    "\n",
    "# How well do we perform on held-out test data?\n",
    "print(\"final accuracy on test set: %s\" %str(sess.run(accuracy_OP, \n",
    "                                                     feed_dict={X: testX, \n",
    "                                                                yGold: testY})))"
   ]
  },
  {
   "cell_type": "code",
   "execution_count": 48,
   "metadata": {},
   "outputs": [
    {
     "name": "stderr",
     "output_type": "stream",
     "text": [
      "D:\\Anaconda\\lib\\site-packages\\numpy\\core\\fromnumeric.py:3372: RuntimeWarning: Mean of empty slice.\n",
      "  return _methods._mean(a, axis=axis, dtype=dtype,\n",
      "D:\\Anaconda\\lib\\site-packages\\numpy\\core\\_methods.py:170: RuntimeWarning: invalid value encountered in double_scalars\n",
      "  ret = ret.dtype.type(ret / rcount)\n"
     ]
    },
    {
     "data": {
      "image/png": "[encoded data removed]",
      "text/plain": [
       "<Figure size 432x288 with 1 Axes>"
      ]
     },
     "metadata": {
      "needs_background": "light"
     },
     "output_type": "display_data"
    }
   ],
   "source": [
    "%matplotlib inline\n",
    "import numpy as np\n",
    "import matplotlib.pyplot as plt\n",
    "plt.plot([np.mean(cost_values[i-50:i]) for i in range(len(cost_values))])\n",
    "plt.show()"
   ]
  },
  {
   "cell_type": "markdown",
   "metadata": {},
   "source": [
    "# Assign 11 Done"
   ]
  }
 ],
 "metadata": {
  "kernelspec": {
   "display_name": "Python 3",
   "language": "python",
   "name": "python3"
  },
  "language_info": {
   "codemirror_mode": {
    "name": "ipython",
    "version": 3
   },
   "file_extension": ".py",
   "mimetype": "text/x-python",
   "name": "python",
   "nbconvert_exporter": "python",
   "pygments_lexer": "ipython3",
   "version": "3.8.5"
  }
 },
 "nbformat": 4,
 "nbformat_minor": 4
}
